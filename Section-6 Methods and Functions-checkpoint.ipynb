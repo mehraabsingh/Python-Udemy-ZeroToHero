{
 "cells": [
  {
   "cell_type": "markdown",
   "id": "32d5f463",
   "metadata": {},
   "source": [
    "**_Methods and the Python Documentation_**"
   ]
  },
  {
   "cell_type": "code",
   "execution_count": 1,
   "id": "f948b1ef",
   "metadata": {},
   "outputs": [],
   "source": [
    "mylist=[1,2,3]"
   ]
  },
  {
   "cell_type": "code",
   "execution_count": 2,
   "id": "3ee86505",
   "metadata": {},
   "outputs": [
    {
     "name": "stdout",
     "output_type": "stream",
     "text": [
      "Help on built-in function extend:\n",
      "\n",
      "extend(iterable, /) method of builtins.list instance\n",
      "    Extend list by appending elements from the iterable.\n",
      "\n"
     ]
    }
   ],
   "source": [
    "#to get to know about some function which are applicable to object PRESS TAB\n",
    "#to get to know about what does a function do PRESS SHIFT + TAB\n",
    "#other way to get to know about function is -\n",
    "help(mylist.extend)"
   ]
  },
  {
   "cell_type": "markdown",
   "id": "60df29dc",
   "metadata": {},
   "source": [
    "**_Functions_**"
   ]
  },
  {
   "cell_type": "markdown",
   "id": "47b137e3",
   "metadata": {},
   "source": [
    "**def Keyword**"
   ]
  },
  {
   "cell_type": "code",
   "execution_count": 7,
   "id": "dc3f4509",
   "metadata": {},
   "outputs": [],
   "source": [
    "def my_first_function(name):\n",
    "    print('Hello! '+ name)"
   ]
  },
  {
   "cell_type": "code",
   "execution_count": 8,
   "id": "b036bc68",
   "metadata": {},
   "outputs": [
    {
     "name": "stdout",
     "output_type": "stream",
     "text": [
      "Hello! bhupendra jogi\n"
     ]
    }
   ],
   "source": [
    "my_first_function('bhupendra jogi')"
   ]
  },
  {
   "cell_type": "code",
   "execution_count": 22,
   "id": "512d40b4",
   "metadata": {},
   "outputs": [],
   "source": [
    "#using return Keyword instead of print as it have advantage to save the variable\n",
    "def add_function(num1,num2):\n",
    "    return num1+num2"
   ]
  },
  {
   "cell_type": "code",
   "execution_count": 23,
   "id": "a023f076",
   "metadata": {},
   "outputs": [],
   "source": [
    "result=add_function(1,2)"
   ]
  },
  {
   "cell_type": "code",
   "execution_count": 24,
   "id": "874d55dc",
   "metadata": {},
   "outputs": [
    {
     "data": {
      "text/plain": [
       "3"
      ]
     },
     "execution_count": 24,
     "metadata": {},
     "output_type": "execute_result"
    }
   ],
   "source": [
    "result"
   ]
  },
  {
   "cell_type": "markdown",
   "id": "5eb7f6fa",
   "metadata": {},
   "source": [
    "**_Basics of Python Functions_**"
   ]
  },
  {
   "cell_type": "code",
   "execution_count": 27,
   "id": "e706ac73",
   "metadata": {},
   "outputs": [],
   "source": [
    "def say_hello(name):\n",
    "    print(f'Hello {name}')"
   ]
  },
  {
   "cell_type": "code",
   "execution_count": 30,
   "id": "5e9812b4",
   "metadata": {},
   "outputs": [
    {
     "name": "stdout",
     "output_type": "stream",
     "text": [
      "Hello bhupendra jogi\n"
     ]
    }
   ],
   "source": [
    "say_hello('bhupendra jogi')"
   ]
  },
  {
   "cell_type": "markdown",
   "id": "072421d8",
   "metadata": {},
   "source": [
    "Difference between Print and Return"
   ]
  },
  {
   "cell_type": "code",
   "execution_count": 31,
   "id": "5df6b38c",
   "metadata": {},
   "outputs": [],
   "source": [
    "def print_type(a,b):\n",
    "    print(a+b)"
   ]
  },
  {
   "cell_type": "code",
   "execution_count": 37,
   "id": "b88f2ffa",
   "metadata": {},
   "outputs": [],
   "source": [
    "def return_type(a,b):\n",
    "    return a+b"
   ]
  },
  {
   "cell_type": "code",
   "execution_count": 40,
   "id": "96bfaf7f",
   "metadata": {},
   "outputs": [
    {
     "name": "stdout",
     "output_type": "stream",
     "text": [
      "30\n",
      "None\n"
     ]
    },
    {
     "data": {
      "text/plain": [
       "NoneType"
      ]
     },
     "execution_count": 40,
     "metadata": {},
     "output_type": "execute_result"
    }
   ],
   "source": [
    "#as there is no output we can not save the value or give the value to the variable \n",
    "a=print_type(10,20)\n",
    "print(a)\n",
    "type(a)"
   ]
  },
  {
   "cell_type": "code",
   "execution_count": 44,
   "id": "ddbc88e9",
   "metadata": {},
   "outputs": [
    {
     "name": "stdout",
     "output_type": "stream",
     "text": [
      "30\n"
     ]
    },
    {
     "data": {
      "text/plain": [
       "int"
      ]
     },
     "execution_count": 44,
     "metadata": {},
     "output_type": "execute_result"
    }
   ],
   "source": [
    "a = return_type(10,20)\n",
    "print(a)\n",
    "type(a)"
   ]
  },
  {
   "cell_type": "code",
   "execution_count": 45,
   "id": "80d3b331",
   "metadata": {},
   "outputs": [],
   "source": [
    "def sum_numbers(num1,num2):\n",
    "    return num1+num2"
   ]
  },
  {
   "cell_type": "code",
   "execution_count": 48,
   "id": "5d82fd40",
   "metadata": {},
   "outputs": [
    {
     "data": {
      "text/plain": [
       "'1020'"
      ]
     },
     "execution_count": 48,
     "metadata": {},
     "output_type": "execute_result"
    }
   ],
   "source": [
    "#if we will use string it will not add it as number but simply merge both together \n",
    "sum_numbers('10','20')"
   ]
  },
  {
   "cell_type": "markdown",
   "id": "0d22a927",
   "metadata": {},
   "source": [
    "**_Logic with Python Functions_**"
   ]
  },
  {
   "cell_type": "code",
   "execution_count": 3,
   "id": "930d63a4",
   "metadata": {},
   "outputs": [
    {
     "data": {
      "text/plain": [
       "0"
      ]
     },
     "execution_count": 3,
     "metadata": {},
     "output_type": "execute_result"
    }
   ],
   "source": [
    "#% - gives remainder of two numbers when divided \n",
    "2%2\n",
    "#which further can be used to check if a number is even or not"
   ]
  },
  {
   "cell_type": "code",
   "execution_count": 19,
   "id": "856e1bd2",
   "metadata": {},
   "outputs": [],
   "source": [
    "def even_check(num):\n",
    "    return num%2==0"
   ]
  },
  {
   "cell_type": "code",
   "execution_count": 20,
   "id": "986d42cd",
   "metadata": {},
   "outputs": [
    {
     "data": {
      "text/plain": [
       "False"
      ]
     },
     "execution_count": 20,
     "metadata": {},
     "output_type": "execute_result"
    }
   ],
   "source": [
    "even_check(11)"
   ]
  },
  {
   "cell_type": "code",
   "execution_count": 21,
   "id": "a96a437e",
   "metadata": {},
   "outputs": [],
   "source": [
    "#RETURN TRUE IF ANY NUMBER  IN LIST IS EVEN"
   ]
  },
  {
   "cell_type": "code",
   "execution_count": 13,
   "id": "17d7a720",
   "metadata": {},
   "outputs": [],
   "source": [
    "def check_even_list(num_list):\n",
    "    for number in num_list:\n",
    "        if number%2==0:\n",
    "            return True\n",
    "        else:\n",
    "            pass\n",
    "#we applied return statement with indentation with for loop as if the for loop did'nt break it should print false\n",
    "    return False"
   ]
  },
  {
   "cell_type": "code",
   "execution_count": 14,
   "id": "c1e0d811",
   "metadata": {},
   "outputs": [
    {
     "data": {
      "text/plain": [
       "False"
      ]
     },
     "execution_count": 14,
     "metadata": {},
     "output_type": "execute_result"
    }
   ],
   "source": [
    "check_even_list([9,21,3,7,1])"
   ]
  },
  {
   "cell_type": "code",
   "execution_count": 34,
   "id": "45e4d97f",
   "metadata": {},
   "outputs": [],
   "source": [
    "#RETURN ALL THE EVEN NUMBERS IN THE LIST \n",
    "def even_numbers_list(numlist):\n",
    "    \n",
    "    even_list=[]\n",
    "\n",
    "    for num in numlist:\n",
    "        if num %2==0:\n",
    "            even_list.append(num)\n",
    "        else:\n",
    "            pass\n",
    "    return even_list"
   ]
  },
  {
   "cell_type": "code",
   "execution_count": 35,
   "id": "c0ad891e",
   "metadata": {},
   "outputs": [
    {
     "data": {
      "text/plain": [
       "[2, 4, 6, 8]"
      ]
     },
     "execution_count": 35,
     "metadata": {},
     "output_type": "execute_result"
    }
   ],
   "source": [
    "even_numbers_list([1,2,3,4,5,6,7,8,9])"
   ]
  },
  {
   "cell_type": "markdown",
   "id": "0c348fb1",
   "metadata": {},
   "source": [
    "**_Tuple Unpacking with Python Functions_**"
   ]
  },
  {
   "cell_type": "code",
   "execution_count": 44,
   "id": "cd942096",
   "metadata": {},
   "outputs": [],
   "source": [
    "stock_prices=[('APPLE',200),('MICROSOFT',100), ('GOOGLE',400)]"
   ]
  },
  {
   "cell_type": "code",
   "execution_count": 49,
   "id": "269dab98",
   "metadata": {},
   "outputs": [
    {
     "name": "stdout",
     "output_type": "stream",
     "text": [
      "('APPLE', 200)\n",
      "('MICROSOFT', 100)\n",
      "('GOOGLE', 400)\n"
     ]
    }
   ],
   "source": [
    "for item in stock_prices:\n",
    "    print(item)"
   ]
  },
  {
   "cell_type": "code",
   "execution_count": 48,
   "id": "f7023710",
   "metadata": {},
   "outputs": [
    {
     "name": "stdout",
     "output_type": "stream",
     "text": [
      "APPLE\n",
      "MICROSOFT\n",
      "GOOGLE\n"
     ]
    }
   ],
   "source": [
    "for ticker,price in stock_prices:\n",
    "    print(ticker)"
   ]
  },
  {
   "cell_type": "code",
   "execution_count": 47,
   "id": "d893b873",
   "metadata": {},
   "outputs": [
    {
     "name": "stdout",
     "output_type": "stream",
     "text": [
      "220.0\n",
      "110.0\n",
      "440.0\n"
     ]
    }
   ],
   "source": [
    "for ticker,price in stock_prices:\n",
    "    print(price+(0.1*price))"
   ]
  },
  {
   "cell_type": "code",
   "execution_count": 72,
   "id": "0dd2b0a7",
   "metadata": {},
   "outputs": [],
   "source": [
    "work_hours=[('bhupendra',400),('kohli',200),('rohit',500)]"
   ]
  },
  {
   "cell_type": "code",
   "execution_count": 73,
   "id": "e2c9a150",
   "metadata": {},
   "outputs": [],
   "source": [
    "def employee_check(work_hours):\n",
    "    current_max= 0\n",
    "    employee_of_month=''\n",
    "    for employee,hours in work_hours:\n",
    "        if hours>current_max :\n",
    "            current_max=hours\n",
    "            employee_of_month=employee\n",
    "        else:\n",
    "             pass\n",
    "    return(employee_of_month,current_max)\n",
    "    "
   ]
  },
  {
   "cell_type": "code",
   "execution_count": 74,
   "id": "9aa7f3ac",
   "metadata": {},
   "outputs": [
    {
     "data": {
      "text/plain": [
       "('rohit', 500)"
      ]
     },
     "execution_count": 74,
     "metadata": {},
     "output_type": "execute_result"
    }
   ],
   "source": [
    "employee_check(work_hours)"
   ]
  },
  {
   "cell_type": "markdown",
   "id": "2afc3bb4",
   "metadata": {},
   "source": [
    "**_Interactions between Python Functions_**"
   ]
  },
  {
   "cell_type": "code",
   "execution_count": 75,
   "id": "d6b9ce79",
   "metadata": {},
   "outputs": [],
   "source": [
    "example=[1,2,3,4,5,6,7,8,9]"
   ]
  },
  {
   "cell_type": "code",
   "execution_count": 79,
   "id": "2105b61d",
   "metadata": {},
   "outputs": [],
   "source": [
    "from random import shuffle"
   ]
  },
  {
   "cell_type": "code",
   "execution_count": 82,
   "id": "4e42aa7c",
   "metadata": {},
   "outputs": [
    {
     "name": "stdout",
     "output_type": "stream",
     "text": [
      "[3, 2, 4, 9, 7, 6, 1, 8, 5]\n"
     ]
    }
   ],
   "source": [
    "shuffle(example)\n",
    "print(example)"
   ]
  },
  {
   "cell_type": "code",
   "execution_count": 83,
   "id": "1d7c2a10",
   "metadata": {},
   "outputs": [],
   "source": [
    "#as shuffle this way does'nt give output \n",
    "def shuffle_list(mylist):\n",
    "    shuffle(mylist)\n",
    "    return mylist"
   ]
  },
  {
   "cell_type": "code",
   "execution_count": 84,
   "id": "8efa57f5",
   "metadata": {},
   "outputs": [
    {
     "data": {
      "text/plain": [
       "[8, 7, 1, 2, 6, 5, 4, 9, 3]"
      ]
     },
     "execution_count": 84,
     "metadata": {},
     "output_type": "execute_result"
    }
   ],
   "source": [
    "shuffle_list(example)"
   ]
  },
  {
   "cell_type": "code",
   "execution_count": 86,
   "id": "b536e5ee",
   "metadata": {},
   "outputs": [],
   "source": [
    "mylist=['','O','']"
   ]
  },
  {
   "cell_type": "code",
   "execution_count": 89,
   "id": "1aa54628",
   "metadata": {},
   "outputs": [
    {
     "data": {
      "text/plain": [
       "['', 'o', '']"
      ]
     },
     "execution_count": 89,
     "metadata": {},
     "output_type": "execute_result"
    }
   ],
   "source": [
    "shuffle_list(mylist)"
   ]
  },
  {
   "cell_type": "code",
   "execution_count": 93,
   "id": "f48cda37",
   "metadata": {},
   "outputs": [],
   "source": [
    "def player_guess():\n",
    "    guess=''\n",
    "    while guess not in ['0','1','2']:\n",
    "        guess=input('Choose number from 0,1or 2')\n",
    "    return int(guess)"
   ]
  },
  {
   "cell_type": "code",
   "execution_count": 94,
   "id": "a7f93591",
   "metadata": {},
   "outputs": [
    {
     "name": "stdout",
     "output_type": "stream",
     "text": [
      "Choose number from 0,1or 21\n"
     ]
    },
    {
     "data": {
      "text/plain": [
       "1"
      ]
     },
     "execution_count": 94,
     "metadata": {},
     "output_type": "execute_result"
    }
   ],
   "source": [
    "player_guess()"
   ]
  },
  {
   "cell_type": "code",
   "execution_count": 97,
   "id": "8df4dbf0",
   "metadata": {},
   "outputs": [],
   "source": [
    "def check_guess(mylist,guess):\n",
    "    if mylist[guess]=='O' or mylist[guess]=='o':\n",
    "        print('Correct!')\n",
    "    else:\n",
    "        print('Wrong guess')\n",
    "        print(mylist)"
   ]
  },
  {
   "cell_type": "code",
   "execution_count": 102,
   "id": "76c1a36a",
   "metadata": {},
   "outputs": [
    {
     "name": "stdout",
     "output_type": "stream",
     "text": [
      "Choose number from 0,1or 23\n",
      "Choose number from 0,1or 23\n",
      "Choose number from 0,1or 23\n",
      "Choose number from 0,1or 21\n",
      "Wrong guess\n",
      "['', '', 'O']\n"
     ]
    }
   ],
   "source": [
    "#Intial List\n",
    "mylist=['','O','']\n",
    "#shuffle list\n",
    "mixedup_list=shuffle_list(mylist)\n",
    "#User guess\n",
    "user_guess=player_guess()\n",
    "#Check guess\n",
    "check_guess(mixedup_list,user_guess)\n"
   ]
  },
  {
   "cell_type": "markdown",
   "id": "ae8c81ff",
   "metadata": {},
   "source": [
    "___*args and **kwargs in Python___"
   ]
  },
  {
   "cell_type": "code",
   "execution_count": 15,
   "id": "d850cf0d",
   "metadata": {},
   "outputs": [],
   "source": [
    "def myfunc(a,b,c=0,d=0,e=0):\n",
    "#Return 5% of the sum of a and b\n",
    "    return sum((a,b,c,d,e))*0.05"
   ]
  },
  {
   "cell_type": "code",
   "execution_count": 16,
   "id": "01643bce",
   "metadata": {},
   "outputs": [
    {
     "data": {
      "text/plain": [
       "5.6000000000000005"
      ]
     },
     "execution_count": 16,
     "metadata": {},
     "output_type": "execute_result"
    }
   ],
   "source": [
    "myfunc(60,40,3,4,5)"
   ]
  },
  {
   "cell_type": "code",
   "execution_count": 8,
   "id": "12558f6f",
   "metadata": {},
   "outputs": [],
   "source": [
    "#as if i want to use more inputs I can use *args \n",
    "def myfunc(*args):\n",
    "    return sum(args)*0.05"
   ]
  },
  {
   "cell_type": "code",
   "execution_count": 9,
   "id": "4890459f",
   "metadata": {},
   "outputs": [
    {
     "data": {
      "text/plain": [
       "5.45"
      ]
     },
     "execution_count": 9,
     "metadata": {},
     "output_type": "execute_result"
    }
   ],
   "source": [
    "myfunc(1,5,6,8,3,6,4,8,66,2)"
   ]
  },
  {
   "cell_type": "code",
   "execution_count": 27,
   "id": "5aae4845",
   "metadata": {},
   "outputs": [],
   "source": [
    "def myfunc(*args):\n",
    "    for items in args:\n",
    "        print(items)"
   ]
  },
  {
   "cell_type": "code",
   "execution_count": 28,
   "id": "41a7d51d",
   "metadata": {},
   "outputs": [
    {
     "name": "stdout",
     "output_type": "stream",
     "text": [
      "1\n",
      "2\n",
      "5\n",
      "6\n",
      "7\n"
     ]
    }
   ],
   "source": [
    "myfunc(1,2,5,6,7)"
   ]
  },
  {
   "cell_type": "code",
   "execution_count": 39,
   "id": "7184446d",
   "metadata": {},
   "outputs": [],
   "source": [
    "def myfunc(**kwargs):\n",
    "    print(kwargs)\n",
    "    if 'fruit' in kwargs:\n",
    "        print('My fruit of choice {}'.format(kwargs['fruit']))\n",
    "    else:\n",
    "        print('I did not find any fruit here')"
   ]
  },
  {
   "cell_type": "code",
   "execution_count": 41,
   "id": "df229ecd",
   "metadata": {},
   "outputs": [
    {
     "name": "stdout",
     "output_type": "stream",
     "text": [
      "{'fruit': 'mango', 'drink': 'juice'}\n",
      "My fruit of choice mango\n"
     ]
    }
   ],
   "source": [
    "myfunc(fruit='mango',drink='juice')"
   ]
  },
  {
   "cell_type": "code",
   "execution_count": 42,
   "id": "755b810b",
   "metadata": {},
   "outputs": [],
   "source": [
    "def myfunc(*args,**kwargs):\n",
    "    print(args)\n",
    "    print(kwargs)\n",
    "    print('I would like {} {}'.format(args[0],kwargs['food']))"
   ]
  },
  {
   "cell_type": "code",
   "execution_count": 44,
   "id": "6c09ff3a",
   "metadata": {},
   "outputs": [
    {
     "name": "stdout",
     "output_type": "stream",
     "text": [
      "(10, 20, 30)\n",
      "{'fruit': 'orange', 'food': 'eggs'}\n",
      "I would like 10 eggs\n"
     ]
    }
   ],
   "source": [
    "myfunc(10,20,30,fruit='orange',food='eggs')"
   ]
  },
  {
   "cell_type": "code",
   "execution_count": null,
   "id": "81f2ba9e",
   "metadata": {},
   "outputs": [],
   "source": []
  }
 ],
 "metadata": {
  "kernelspec": {
   "display_name": "Python 3 (ipykernel)",
   "language": "python",
   "name": "python3"
  },
  "language_info": {
   "codemirror_mode": {
    "name": "ipython",
    "version": 3
   },
   "file_extension": ".py",
   "mimetype": "text/x-python",
   "name": "python",
   "nbconvert_exporter": "python",
   "pygments_lexer": "ipython3",
   "version": "3.11.4"
  }
 },
 "nbformat": 4,
 "nbformat_minor": 5
}
